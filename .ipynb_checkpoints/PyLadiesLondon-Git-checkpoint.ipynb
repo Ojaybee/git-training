{
 "cells": [
  {
   "cell_type": "code",
   "execution_count": 2,
   "metadata": {
    "collapsed": true,
    "slideshow": {
     "slide_type": "skip"
    }
   },
   "outputs": [],
   "source": [
    "from IPython.display import display, HTML, IFrame, Image"
   ]
  },
  {
   "cell_type": "markdown",
   "metadata": {
    "slideshow": {
     "slide_type": "slide"
    }
   },
   "source": [
    "PyLadies London - 07/01/2016\n",
    "\n",
    "\n",
    "\n",
    "\n",
    "# INTRODUCTION TO GIT\n",
    "\n",
    "\n",
    "\n",
    "\n",
    "\n",
    "![Git icon](img/Git-Icon.png)"
   ]
  },
  {
   "cell_type": "markdown",
   "metadata": {
    "slideshow": {
     "slide_type": "slide"
    }
   },
   "source": [
    "PyLadies London - 07/01/2016\n",
    "\n",
    "\n",
    "\n",
    "##What is version control?\n",
    "\n",
    "\n",
    "__VCS: system to help keep track of file changes over time__\n",
    "\n",
    "\n",
    "\n",
    "Using version control enables you:\n",
    "\n",
    "* to go back to a previous version of your work\n",
    "* to compare the changes you made\n",
    "* to serve as a backup\n",
    "\n",
    "\n",
    "=> local version on your computer + a remote repository on a server ([Github](http://github.com/))\n",
    "\n",
    "\n",
    "*Note: Git != Github*"
   ]
  },
  {
   "cell_type": "markdown",
   "metadata": {
    "slideshow": {
     "slide_type": "slide"
    }
   },
   "source": [
    "PyLadies London - 07/01/2016 \n",
    "\n",
    "\n",
    "\n",
    "\n",
    "###Distributed Version Control System\n",
    "\n",
    "![Distributed VCS](img/distributed-vc-small.png)"
   ]
  },
  {
   "cell_type": "markdown",
   "metadata": {
    "slideshow": {
     "slide_type": "slide"
    }
   },
   "source": [
    "PyLadies London - 07/01/2016 \n",
    "\n",
    "\n",
    "\n",
    "## What is Git?\n",
    "\n",
    "\n",
    "![git](img/git.png)\n",
    "\n",
    "\n",
    "* A version control tool started by the Linux development community in 2005 as  for the Linux kernel\n",
    "\n",
    "* Takes a snapshot of your files over time + stores a reference -> can go back to each snapshot if needed\n",
    "\n",
    "* You can go through all changes in the history on your local machine -> you can work offline\n",
    "\n"
   ]
  },
  {
   "cell_type": "markdown",
   "metadata": {
    "slideshow": {
     "slide_type": "slide"
    }
   },
   "source": [
    "PyLadies London - 07/01/2016 \n",
    "\n",
    "\n",
    "\n",
    "##Basic Git workflow\n",
    "\n",
    "![3 states](img/three-stages.png)\n",
    "\n",
    "1. You __modify__ files in your working directory.\n",
    "\n",
    "2. You __stage__ the files, adding snapshots of them to your staging area.\n",
    "\n",
    "3. You do a __commit__, which takes the files as they are in the staging area and stores that snapshot permanently to your Git directory.\n",
    "\n",
    "\n"
   ]
  },
  {
   "cell_type": "markdown",
   "metadata": {
    "slideshow": {
     "slide_type": "slide"
    }
   },
   "source": [
    "PyLadies London - 07/01/2016 \n",
    "\n",
    "\n",
    "##Basic Git commands\n",
    "\n",
    "\n",
    "To use an __existing Git repository__, you have to clone it:\n",
    "\n",
    "```\n",
    "~$ git clone https://github.com/user-name/repository-name.git\n",
    "```\n",
    "\n",
    "To start a __new Git repository__ locally, you initialise it:\n",
    "```\n",
    "~$ git init\n",
    "```\n",
    "\n"
   ]
  },
  {
   "cell_type": "markdown",
   "metadata": {
    "slideshow": {
     "slide_type": "subslide"
    }
   },
   "source": [
    "You have made changes (file __modified__) you __stage__ the file:\n",
    "```\n",
    "~$ git add my-name.py\n",
    "```\n",
    "\n",
    "You __commit__ your changes:\n",
    "```\n",
    "~$ git commit -m \"initial version\"\n",
    "```\n",
    "\n",
    "![git add commit](img/git-add-commit.png)\n",
    "\n",
    "\n",
    "You can update a remote repository:\n",
    "```\n",
    "~$ git push origin master\n",
    "```\n"
   ]
  },
  {
   "cell_type": "markdown",
   "metadata": {
    "slideshow": {
     "slide_type": "slide"
    }
   },
   "source": [
    "PyLadies London - 07/01/2016 \n",
    "\n",
    "\n",
    "\n",
    "##Useful terms\n",
    "\n",
    "* Fork: [remote] copy a repo to propose changes to a project \n",
    "\n",
    "* Clone: get an existing project from a remote server \n",
    "\n",
    "* Branch: diverge from the main line of development\n",
    "\n",
    "* Checkout: change to a other branch\n",
    "\n",
    "* Merge: add changes from a branch to the main development\n",
    "\n",
    "* Pull Request: propose changes to be merged in"
   ]
  },
  {
   "cell_type": "code",
   "execution_count": 4,
   "metadata": {
    "collapsed": false,
    "slideshow": {
     "slide_type": "skip"
    }
   },
   "outputs": [
    {
     "data": {
      "text/html": [
       "\n",
       "\n",
       "<style>\n",
       "\n",
       ".rendered_html {\n",
       "    font-family: \"proxima-nova\", helvetica;\n",
       "    font-size: 120%;\n",
       "    line-height: 1.3;\n",
       "}\n",
       "\n",
       ".rendered_html h1 {\n",
       "    margin: 0.25em 0em 0.5em;\n",
       "    color: #349675;\n",
       "    text-align: center;\n",
       "    line-height: 1.2; \n",
       "    page-break-before: always;\n",
       "}\n",
       "\n",
       ".rendered_html h2 {\n",
       "    margin: 1.1em 0em 0.5em;\n",
       "    color: #415EBF;\n",
       "    text-align: center;\n",
       "    line-height: 1.2;\n",
       "}\n",
       "\n",
       ".rendered_html h4 {\n",
       "    margin-top: 1.2em;\n",
       "    margin-bottom: 1.1em;\n",
       "    color: #878383;\n",
       "    line-height: 1.2;\n",
       "}\n",
       "\n",
       "h4.center {\n",
       "    margin-left: 13em;\n",
       "}\n",
       "\n",
       "h4.left {\n",
       "    margin-left: 9em;\n",
       "}\n",
       "\n",
       ".rendered_html p.ref {\n",
       "    font-size: 70%;\n",
       "}\n",
       "\n",
       ".rendered_html h5 {\n",
       "    margin: 1.1em 0em 0.5em;\n",
       "    /*text-align: center;*/\n",
       "    line-height: 1.1;\n",
       "}\n",
       "\n",
       ".rendered_html li {\n",
       "    line-height: 1.5; \n",
       "}\n",
       "\n",
       ".rendered_html p {\n",
       "    /*text-align: center;*/\n",
       "}\n",
       ".rendered_html span {\n",
       "    text-align: center;\n",
       "    line-height: 0.5;\n",
       "}\n",
       ".prompt {\n",
       "    font-size: 120%; \n",
       "}\n",
       "\n",
       ".img_center {\n",
       "    border-left: 200px;\n",
       "}\n",
       "\n",
       ".CodeMirror-lines {\n",
       "    font-size: 120%; \n",
       "}\n",
       "\n",
       ".output_area {\n",
       "    font-size: 120%; \n",
       "}\n",
       "\n",
       "#notebook {\n",
       "    \n",
       "}\n",
       "\n",
       "</style>\n"
      ],
      "text/plain": [
       "<IPython.core.display.HTML object>"
      ]
     },
     "metadata": {},
     "output_type": "display_data"
    }
   ],
   "source": [
    "s = \"\"\"\n",
    "\n",
    "<style>\n",
    "\n",
    ".rendered_html {\n",
    "    font-family: \"proxima-nova\", helvetica;\n",
    "    font-size: 120%;\n",
    "    line-height: 1.3;\n",
    "}\n",
    "\n",
    ".rendered_html h1 {\n",
    "    margin: 0.25em 0em 0.5em;\n",
    "    color: #349675;\n",
    "    text-align: center;\n",
    "    line-height: 1.2; \n",
    "    page-break-before: always;\n",
    "}\n",
    "\n",
    ".rendered_html h2 {\n",
    "    margin: 1.1em 0em 0.5em;\n",
    "    color: #415EBF;\n",
    "    text-align: center;\n",
    "    line-height: 1.2;\n",
    "}\n",
    "\n",
    ".rendered_html h4 {\n",
    "    margin-top: 1.2em;\n",
    "    margin-bottom: 1.1em;\n",
    "    color: #878383;\n",
    "    line-height: 1.2;\n",
    "}\n",
    "\n",
    "h4.center {\n",
    "    margin-left: 13em;\n",
    "}\n",
    "\n",
    "h4.left {\n",
    "    margin-left: 9em;\n",
    "}\n",
    "\n",
    ".rendered_html p.ref {\n",
    "    font-size: 70%;\n",
    "}\n",
    "\n",
    ".rendered_html h5 {\n",
    "    margin: 1.1em 0em 0.5em;\n",
    "    /*text-align: center;*/\n",
    "    line-height: 1.1;\n",
    "}\n",
    "\n",
    ".rendered_html li {\n",
    "    line-height: 1.5; \n",
    "}\n",
    "\n",
    ".rendered_html p {\n",
    "    /*text-align: center;*/\n",
    "}\n",
    ".rendered_html span {\n",
    "    text-align: center;\n",
    "    line-height: 0.5;\n",
    "}\n",
    ".prompt {\n",
    "    font-size: 120%; \n",
    "}\n",
    "\n",
    ".img_center {\n",
    "    border-left: 200px;\n",
    "}\n",
    "\n",
    ".CodeMirror-lines {\n",
    "    font-size: 120%; \n",
    "}\n",
    "\n",
    ".output_area {\n",
    "    font-size: 120%; \n",
    "}\n",
    "\n",
    "#notebook {\n",
    "    \n",
    "}\n",
    "\n",
    "</style>\n",
    "\"\"\"\n",
    "display(HTML(s))"
   ]
  },
  {
   "cell_type": "code",
   "execution_count": null,
   "metadata": {
    "collapsed": true,
    "slideshow": {
     "slide_type": "skip"
    }
   },
   "outputs": [],
   "source": []
  }
 ],
 "metadata": {
  "celltoolbar": "Slideshow",
  "kernelspec": {
   "display_name": "Python 2",
   "language": "python",
   "name": "python2"
  },
  "language_info": {
   "codemirror_mode": {
    "name": "ipython",
    "version": 2
   },
   "file_extension": ".py",
   "mimetype": "text/x-python",
   "name": "python",
   "nbconvert_exporter": "python",
   "pygments_lexer": "ipython2",
   "version": "2.7.6"
  }
 },
 "nbformat": 4,
 "nbformat_minor": 0
}
